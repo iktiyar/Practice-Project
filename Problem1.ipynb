{
 "cells": [
  {
   "cell_type": "code",
   "execution_count": 1,
   "id": "bf63eb52",
   "metadata": {},
   "outputs": [],
   "source": [
    "# importing necessary libraries\n",
    "import warnings\n",
    "warnings.filterwarnings('ignore')\n",
    "\n",
    "import numpy as np\n",
    "from datetime import datetime\n",
    "import pandas as pd\n",
    "import matplotlib.pyplot as plt\n",
    "import seaborn as sns\n",
    "%matplotlib inline"
   ]
  },
  {
   "cell_type": "code",
   "execution_count": 2,
   "id": "5ca5b7dc",
   "metadata": {},
   "outputs": [
    {
     "data": {
      "text/html": [
       "<div>\n",
       "<style scoped>\n",
       "    .dataframe tbody tr th:only-of-type {\n",
       "        vertical-align: middle;\n",
       "    }\n",
       "\n",
       "    .dataframe tbody tr th {\n",
       "        vertical-align: top;\n",
       "    }\n",
       "\n",
       "    .dataframe thead th {\n",
       "        text-align: right;\n",
       "    }\n",
       "</style>\n",
       "<table border=\"1\" class=\"dataframe\">\n",
       "  <thead>\n",
       "    <tr style=\"text-align: right;\">\n",
       "      <th></th>\n",
       "      <th>BOX_ID</th>\n",
       "      <th>QUALITY</th>\n",
       "      <th>DELIVERY_OPTION</th>\n",
       "      <th>MILK</th>\n",
       "      <th>MEAT</th>\n",
       "      <th>UNIT_PRICE</th>\n",
       "    </tr>\n",
       "  </thead>\n",
       "  <tbody>\n",
       "    <tr>\n",
       "      <th>0</th>\n",
       "      <td>1</td>\n",
       "      <td>Premium</td>\n",
       "      <td>Home Delivery - CoD</td>\n",
       "      <td>0.0</td>\n",
       "      <td>2.7</td>\n",
       "      <td>9.96</td>\n",
       "    </tr>\n",
       "    <tr>\n",
       "      <th>1</th>\n",
       "      <td>2</td>\n",
       "      <td>Premium</td>\n",
       "      <td>Home Delivery - CoD</td>\n",
       "      <td>0.0</td>\n",
       "      <td>2.3</td>\n",
       "      <td>11.96</td>\n",
       "    </tr>\n",
       "    <tr>\n",
       "      <th>2</th>\n",
       "      <td>3</td>\n",
       "      <td>Premium</td>\n",
       "      <td>Home Delivery - CoD</td>\n",
       "      <td>0.0</td>\n",
       "      <td>2.4</td>\n",
       "      <td>11.96</td>\n",
       "    </tr>\n",
       "    <tr>\n",
       "      <th>3</th>\n",
       "      <td>4</td>\n",
       "      <td>Premium</td>\n",
       "      <td>Home Delivery - CoD</td>\n",
       "      <td>0.0</td>\n",
       "      <td>2.5</td>\n",
       "      <td>11.96</td>\n",
       "    </tr>\n",
       "    <tr>\n",
       "      <th>4</th>\n",
       "      <td>5</td>\n",
       "      <td>Premium</td>\n",
       "      <td>Home Delivery - CoD</td>\n",
       "      <td>0.0</td>\n",
       "      <td>2.6</td>\n",
       "      <td>11.96</td>\n",
       "    </tr>\n",
       "  </tbody>\n",
       "</table>\n",
       "</div>"
      ],
      "text/plain": [
       "   BOX_ID  QUALITY      DELIVERY_OPTION  MILK  MEAT  UNIT_PRICE\n",
       "0       1  Premium  Home Delivery - CoD   0.0   2.7        9.96\n",
       "1       2  Premium  Home Delivery - CoD   0.0   2.3       11.96\n",
       "2       3  Premium  Home Delivery - CoD   0.0   2.4       11.96\n",
       "3       4  Premium  Home Delivery - CoD   0.0   2.5       11.96\n",
       "4       5  Premium  Home Delivery - CoD   0.0   2.6       11.96"
      ]
     },
     "execution_count": 2,
     "metadata": {},
     "output_type": "execute_result"
    }
   ],
   "source": [
    "# read 'box.csv'\n",
    "df_box = pd.read_csv(\"C:/Users/User/Downloads/boxes.csv\")\n",
    "df_box.head()"
   ]
  },
  {
   "cell_type": "code",
   "execution_count": 3,
   "id": "652e43a5",
   "metadata": {},
   "outputs": [
    {
     "data": {
      "text/html": [
       "<div>\n",
       "<style scoped>\n",
       "    .dataframe tbody tr th:only-of-type {\n",
       "        vertical-align: middle;\n",
       "    }\n",
       "\n",
       "    .dataframe tbody tr th {\n",
       "        vertical-align: top;\n",
       "    }\n",
       "\n",
       "    .dataframe thead th {\n",
       "        text-align: right;\n",
       "    }\n",
       "</style>\n",
       "<table border=\"1\" class=\"dataframe\">\n",
       "  <thead>\n",
       "    <tr style=\"text-align: right;\">\n",
       "      <th></th>\n",
       "      <th>PURCHASE_DATE</th>\n",
       "      <th>MAGIC_KEY</th>\n",
       "      <th>BOX_ID</th>\n",
       "      <th>BOX_COUNT</th>\n",
       "    </tr>\n",
       "  </thead>\n",
       "  <tbody>\n",
       "    <tr>\n",
       "      <th>0</th>\n",
       "      <td>1/2/2019</td>\n",
       "      <td>2CED678A247</td>\n",
       "      <td>12.0</td>\n",
       "      <td>1.0</td>\n",
       "    </tr>\n",
       "    <tr>\n",
       "      <th>1</th>\n",
       "      <td>1/2/2019</td>\n",
       "      <td>2BF58D91BA1</td>\n",
       "      <td>12.0</td>\n",
       "      <td>1.0</td>\n",
       "    </tr>\n",
       "    <tr>\n",
       "      <th>2</th>\n",
       "      <td>1/2/2019</td>\n",
       "      <td>2C15B86534E</td>\n",
       "      <td>99.0</td>\n",
       "      <td>1.0</td>\n",
       "    </tr>\n",
       "    <tr>\n",
       "      <th>3</th>\n",
       "      <td>1/2/2019</td>\n",
       "      <td>2C32D9A859A</td>\n",
       "      <td>6.0</td>\n",
       "      <td>1.0</td>\n",
       "    </tr>\n",
       "    <tr>\n",
       "      <th>4</th>\n",
       "      <td>1/2/2019</td>\n",
       "      <td>2C7A55404D1</td>\n",
       "      <td>4.0</td>\n",
       "      <td>1.0</td>\n",
       "    </tr>\n",
       "  </tbody>\n",
       "</table>\n",
       "</div>"
      ],
      "text/plain": [
       "  PURCHASE_DATE    MAGIC_KEY  BOX_ID  BOX_COUNT\n",
       "0      1/2/2019  2CED678A247    12.0        1.0\n",
       "1      1/2/2019  2BF58D91BA1    12.0        1.0\n",
       "2      1/2/2019  2C15B86534E    99.0        1.0\n",
       "3      1/2/2019  2C32D9A859A     6.0        1.0\n",
       "4      1/2/2019  2C7A55404D1     4.0        1.0"
      ]
     },
     "execution_count": 3,
     "metadata": {},
     "output_type": "execute_result"
    }
   ],
   "source": [
    "# read 'purchase.csv'\n",
    "df_purch = pd.read_csv(\"C:/Users/User/Downloads/purchase.csv\")\n",
    "df_purch.head()"
   ]
  },
  {
   "cell_type": "code",
   "execution_count": 4,
   "id": "bbad2557",
   "metadata": {},
   "outputs": [],
   "source": [
    "# merge them together in main df\n",
    "df = pd.merge(left=df_purch, right=df_box, on='BOX_ID',how='outer')"
   ]
  },
  {
   "cell_type": "code",
   "execution_count": 5,
   "id": "8ad3f9b0",
   "metadata": {},
   "outputs": [
    {
     "data": {
      "text/html": [
       "<div>\n",
       "<style scoped>\n",
       "    .dataframe tbody tr th:only-of-type {\n",
       "        vertical-align: middle;\n",
       "    }\n",
       "\n",
       "    .dataframe tbody tr th {\n",
       "        vertical-align: top;\n",
       "    }\n",
       "\n",
       "    .dataframe thead th {\n",
       "        text-align: right;\n",
       "    }\n",
       "</style>\n",
       "<table border=\"1\" class=\"dataframe\">\n",
       "  <thead>\n",
       "    <tr style=\"text-align: right;\">\n",
       "      <th></th>\n",
       "      <th>PURCHASE_DATE</th>\n",
       "      <th>MAGIC_KEY</th>\n",
       "      <th>BOX_ID</th>\n",
       "      <th>BOX_COUNT</th>\n",
       "      <th>QUALITY</th>\n",
       "      <th>DELIVERY_OPTION</th>\n",
       "      <th>MILK</th>\n",
       "      <th>MEAT</th>\n",
       "      <th>UNIT_PRICE</th>\n",
       "    </tr>\n",
       "  </thead>\n",
       "  <tbody>\n",
       "    <tr>\n",
       "      <th>0</th>\n",
       "      <td>1/2/2019</td>\n",
       "      <td>2CED678A247</td>\n",
       "      <td>12.0</td>\n",
       "      <td>1.0</td>\n",
       "      <td>Premium</td>\n",
       "      <td>Home Delivery - CoD</td>\n",
       "      <td>8.0</td>\n",
       "      <td>1.5</td>\n",
       "      <td>12.98</td>\n",
       "    </tr>\n",
       "    <tr>\n",
       "      <th>1</th>\n",
       "      <td>1/2/2019</td>\n",
       "      <td>2BF58D91BA1</td>\n",
       "      <td>12.0</td>\n",
       "      <td>1.0</td>\n",
       "      <td>Premium</td>\n",
       "      <td>Home Delivery - CoD</td>\n",
       "      <td>8.0</td>\n",
       "      <td>1.5</td>\n",
       "      <td>12.98</td>\n",
       "    </tr>\n",
       "    <tr>\n",
       "      <th>2</th>\n",
       "      <td>1/2/2019</td>\n",
       "      <td>2C3A3F7DB65</td>\n",
       "      <td>12.0</td>\n",
       "      <td>1.0</td>\n",
       "      <td>Premium</td>\n",
       "      <td>Home Delivery - CoD</td>\n",
       "      <td>8.0</td>\n",
       "      <td>1.5</td>\n",
       "      <td>12.98</td>\n",
       "    </tr>\n",
       "    <tr>\n",
       "      <th>3</th>\n",
       "      <td>1/2/2019</td>\n",
       "      <td>2BD2641961A</td>\n",
       "      <td>12.0</td>\n",
       "      <td>1.0</td>\n",
       "      <td>Premium</td>\n",
       "      <td>Home Delivery - CoD</td>\n",
       "      <td>8.0</td>\n",
       "      <td>1.5</td>\n",
       "      <td>12.98</td>\n",
       "    </tr>\n",
       "    <tr>\n",
       "      <th>4</th>\n",
       "      <td>1/2/2019</td>\n",
       "      <td>2BD2EAA1C90</td>\n",
       "      <td>12.0</td>\n",
       "      <td>1.0</td>\n",
       "      <td>Premium</td>\n",
       "      <td>Home Delivery - CoD</td>\n",
       "      <td>8.0</td>\n",
       "      <td>1.5</td>\n",
       "      <td>12.98</td>\n",
       "    </tr>\n",
       "  </tbody>\n",
       "</table>\n",
       "</div>"
      ],
      "text/plain": [
       "  PURCHASE_DATE    MAGIC_KEY  BOX_ID  BOX_COUNT  QUALITY      DELIVERY_OPTION  \\\n",
       "0      1/2/2019  2CED678A247    12.0        1.0  Premium  Home Delivery - CoD   \n",
       "1      1/2/2019  2BF58D91BA1    12.0        1.0  Premium  Home Delivery - CoD   \n",
       "2      1/2/2019  2C3A3F7DB65    12.0        1.0  Premium  Home Delivery - CoD   \n",
       "3      1/2/2019  2BD2641961A    12.0        1.0  Premium  Home Delivery - CoD   \n",
       "4      1/2/2019  2BD2EAA1C90    12.0        1.0  Premium  Home Delivery - CoD   \n",
       "\n",
       "   MILK  MEAT  UNIT_PRICE  \n",
       "0   8.0   1.5       12.98  \n",
       "1   8.0   1.5       12.98  \n",
       "2   8.0   1.5       12.98  \n",
       "3   8.0   1.5       12.98  \n",
       "4   8.0   1.5       12.98  "
      ]
     },
     "execution_count": 5,
     "metadata": {},
     "output_type": "execute_result"
    }
   ],
   "source": [
    "df.head()"
   ]
  },
  {
   "cell_type": "code",
   "execution_count": 6,
   "id": "357ea2ab",
   "metadata": {},
   "outputs": [
    {
     "data": {
      "text/html": [
       "<div>\n",
       "<style scoped>\n",
       "    .dataframe tbody tr th:only-of-type {\n",
       "        vertical-align: middle;\n",
       "    }\n",
       "\n",
       "    .dataframe tbody tr th {\n",
       "        vertical-align: top;\n",
       "    }\n",
       "\n",
       "    .dataframe thead th {\n",
       "        text-align: right;\n",
       "    }\n",
       "</style>\n",
       "<table border=\"1\" class=\"dataframe\">\n",
       "  <thead>\n",
       "    <tr style=\"text-align: right;\">\n",
       "      <th></th>\n",
       "      <th>PURCHASE_DATE</th>\n",
       "      <th>MAGIC_KEY</th>\n",
       "      <th>BOX_ID</th>\n",
       "      <th>BOX_COUNT</th>\n",
       "      <th>QUALITY</th>\n",
       "      <th>DELIVERY_OPTION</th>\n",
       "      <th>MILK</th>\n",
       "      <th>MEAT</th>\n",
       "      <th>UNIT_PRICE</th>\n",
       "    </tr>\n",
       "  </thead>\n",
       "  <tbody>\n",
       "    <tr>\n",
       "      <th>2455859</th>\n",
       "      <td>14/10/2018</td>\n",
       "      <td>2BE6A6A7E6C</td>\n",
       "      <td>169.0</td>\n",
       "      <td>1.0</td>\n",
       "      <td>Premium</td>\n",
       "      <td>Delivery from Collection Point</td>\n",
       "      <td>14.0</td>\n",
       "      <td>2.9</td>\n",
       "      <td>23.98</td>\n",
       "    </tr>\n",
       "    <tr>\n",
       "      <th>2455860</th>\n",
       "      <td>14/10/2018</td>\n",
       "      <td>2C774DAC048</td>\n",
       "      <td>169.0</td>\n",
       "      <td>1.0</td>\n",
       "      <td>Premium</td>\n",
       "      <td>Delivery from Collection Point</td>\n",
       "      <td>14.0</td>\n",
       "      <td>2.9</td>\n",
       "      <td>23.98</td>\n",
       "    </tr>\n",
       "    <tr>\n",
       "      <th>2455861</th>\n",
       "      <td>14/10/2018</td>\n",
       "      <td>2BD1A4A1DC5</td>\n",
       "      <td>169.0</td>\n",
       "      <td>1.0</td>\n",
       "      <td>Premium</td>\n",
       "      <td>Delivery from Collection Point</td>\n",
       "      <td>14.0</td>\n",
       "      <td>2.9</td>\n",
       "      <td>23.98</td>\n",
       "    </tr>\n",
       "    <tr>\n",
       "      <th>2455862</th>\n",
       "      <td>13/10/2018</td>\n",
       "      <td>28D8EFAE836</td>\n",
       "      <td>264.0</td>\n",
       "      <td>2.0</td>\n",
       "      <td>Standard</td>\n",
       "      <td>Delivery from Collection Point</td>\n",
       "      <td>13.0</td>\n",
       "      <td>2.2</td>\n",
       "      <td>17.98</td>\n",
       "    </tr>\n",
       "    <tr>\n",
       "      <th>2455863</th>\n",
       "      <td>31/10/2018</td>\n",
       "      <td>2C7754E946E</td>\n",
       "      <td>109.0</td>\n",
       "      <td>2.0</td>\n",
       "      <td>Premium</td>\n",
       "      <td>Delivery from Collection Point</td>\n",
       "      <td>0.0</td>\n",
       "      <td>4.2</td>\n",
       "      <td>15.96</td>\n",
       "    </tr>\n",
       "  </tbody>\n",
       "</table>\n",
       "</div>"
      ],
      "text/plain": [
       "        PURCHASE_DATE    MAGIC_KEY  BOX_ID  BOX_COUNT   QUALITY  \\\n",
       "2455859    14/10/2018  2BE6A6A7E6C   169.0        1.0   Premium   \n",
       "2455860    14/10/2018  2C774DAC048   169.0        1.0   Premium   \n",
       "2455861    14/10/2018  2BD1A4A1DC5   169.0        1.0   Premium   \n",
       "2455862    13/10/2018  28D8EFAE836   264.0        2.0  Standard   \n",
       "2455863    31/10/2018  2C7754E946E   109.0        2.0   Premium   \n",
       "\n",
       "                        DELIVERY_OPTION  MILK  MEAT  UNIT_PRICE  \n",
       "2455859  Delivery from Collection Point  14.0   2.9       23.98  \n",
       "2455860  Delivery from Collection Point  14.0   2.9       23.98  \n",
       "2455861  Delivery from Collection Point  14.0   2.9       23.98  \n",
       "2455862  Delivery from Collection Point  13.0   2.2       17.98  \n",
       "2455863  Delivery from Collection Point   0.0   4.2       15.96  "
      ]
     },
     "execution_count": 6,
     "metadata": {},
     "output_type": "execute_result"
    }
   ],
   "source": [
    "df.tail()"
   ]
  },
  {
   "cell_type": "code",
   "execution_count": 7,
   "id": "1d232e6b",
   "metadata": {},
   "outputs": [
    {
     "name": "stdout",
     "output_type": "stream",
     "text": [
      "<class 'pandas.core.frame.DataFrame'>\n",
      "Int64Index: 2455864 entries, 0 to 2455863\n",
      "Data columns (total 9 columns):\n",
      " #   Column           Dtype  \n",
      "---  ------           -----  \n",
      " 0   PURCHASE_DATE    object \n",
      " 1   MAGIC_KEY        object \n",
      " 2   BOX_ID           float64\n",
      " 3   BOX_COUNT        float64\n",
      " 4   QUALITY          object \n",
      " 5   DELIVERY_OPTION  object \n",
      " 6   MILK             float64\n",
      " 7   MEAT             float64\n",
      " 8   UNIT_PRICE       float64\n",
      "dtypes: float64(5), object(4)\n",
      "memory usage: 187.4+ MB\n"
     ]
    }
   ],
   "source": [
    "df.info()"
   ]
  },
  {
   "cell_type": "markdown",
   "id": "45a0671b",
   "metadata": {},
   "source": [
    "## EDA"
   ]
  },
  {
   "cell_type": "markdown",
   "id": "9cbb4be1",
   "metadata": {},
   "source": [
    "**4.How many records have missing information?**"
   ]
  },
  {
   "cell_type": "code",
   "execution_count": 8,
   "id": "d37a95ec",
   "metadata": {},
   "outputs": [
    {
     "name": "stdout",
     "output_type": "stream",
     "text": [
      "Number of missing info:\n"
     ]
    },
    {
     "data": {
      "text/plain": [
       "414"
      ]
     },
     "execution_count": 8,
     "metadata": {},
     "output_type": "execute_result"
    }
   ],
   "source": [
    "# number of missing values\n",
    "print(\"Number of missing info:\")\n",
    "df.isnull().sum().sum()"
   ]
  },
  {
   "cell_type": "markdown",
   "id": "dc92fa57",
   "metadata": {},
   "source": [
    "**5.How many records are invalid?**"
   ]
  },
  {
   "cell_type": "code",
   "execution_count": 9,
   "id": "49660734",
   "metadata": {},
   "outputs": [
    {
     "name": "stdout",
     "output_type": "stream",
     "text": [
      "Number of Invalid Records:\n"
     ]
    },
    {
     "data": {
      "text/plain": [
       "17"
      ]
     },
     "execution_count": 9,
     "metadata": {},
     "output_type": "execute_result"
    }
   ],
   "source": [
    "# number of invalid record\n",
    "print(\"Number of Invalid Records:\")\n",
    "df[(df[\"BOX_ID\"] >290) | (df[\"BOX_COUNT\"] < 1)].shape[0]"
   ]
  },
  {
   "cell_type": "code",
   "execution_count": 10,
   "id": "095e39ce",
   "metadata": {},
   "outputs": [],
   "source": [
    "# dropping misssing values and invalid records\n",
    "df.dropna(inplace=True)"
   ]
  },
  {
   "cell_type": "code",
   "execution_count": 11,
   "id": "85cf76a5",
   "metadata": {},
   "outputs": [
    {
     "data": {
      "text/plain": [
       "77"
      ]
     },
     "execution_count": 11,
     "metadata": {},
     "output_type": "execute_result"
    }
   ],
   "source": [
    "df.duplicated().sum()"
   ]
  },
  {
   "cell_type": "code",
   "execution_count": 12,
   "id": "70e1e9b3",
   "metadata": {},
   "outputs": [
    {
     "name": "stdout",
     "output_type": "stream",
     "text": [
      "<class 'pandas.core.frame.DataFrame'>\n",
      "DatetimeIndex: 2455723 entries, 2018-01-10 to 2019-12-02\n",
      "Data columns (total 8 columns):\n",
      " #   Column           Dtype  \n",
      "---  ------           -----  \n",
      " 0   MAGIC_KEY        object \n",
      " 1   BOX_ID           int32  \n",
      " 2   BOX_COUNT        int32  \n",
      " 3   QUALITY          object \n",
      " 4   DELIVERY_OPTION  object \n",
      " 5   MILK             float64\n",
      " 6   MEAT             float64\n",
      " 7   UNIT_PRICE       float64\n",
      "dtypes: float64(3), int32(2), object(3)\n",
      "memory usage: 149.9+ MB\n"
     ]
    }
   ],
   "source": [
    "# dropping duplicated values\n",
    "df.drop_duplicates(inplace=True)\n",
    "\n",
    "# converting type of 'PURCHASE_DATE' to date time\n",
    "df[\"PURCHASE_DATE\"]= pd.to_datetime(df[\"PURCHASE_DATE\"])\n",
    "# set 'PURCHASE_DATE' as index\n",
    "df.set_index(\"PURCHASE_DATE\",drop=True,inplace=True)\n",
    "df.sort_index(inplace=True)\n",
    "# converting float to int\n",
    "df[\"BOX_ID\"] = df[\"BOX_ID\"].astype(int)\n",
    "df[\"BOX_COUNT\"] = df[\"BOX_COUNT\"].astype(int)\n",
    "\n",
    "df.info()"
   ]
  },
  {
   "cell_type": "markdown",
   "id": "1028911c",
   "metadata": {},
   "source": [
    "**6.What is the monthly meat sales quantity for Feb'19?**"
   ]
  },
  {
   "cell_type": "code",
   "execution_count": 13,
   "id": "d4c6e980",
   "metadata": {},
   "outputs": [
    {
     "data": {
      "text/html": [
       "<div>\n",
       "<style scoped>\n",
       "    .dataframe tbody tr th:only-of-type {\n",
       "        vertical-align: middle;\n",
       "    }\n",
       "\n",
       "    .dataframe tbody tr th {\n",
       "        vertical-align: top;\n",
       "    }\n",
       "\n",
       "    .dataframe thead th {\n",
       "        text-align: right;\n",
       "    }\n",
       "</style>\n",
       "<table border=\"1\" class=\"dataframe\">\n",
       "  <thead>\n",
       "    <tr style=\"text-align: right;\">\n",
       "      <th></th>\n",
       "      <th>BOX_ID</th>\n",
       "      <th>BOX_COUNT</th>\n",
       "      <th>MILK</th>\n",
       "      <th>MEAT</th>\n",
       "      <th>UNIT_PRICE</th>\n",
       "    </tr>\n",
       "    <tr>\n",
       "      <th>PURCHASE_DATE</th>\n",
       "      <th></th>\n",
       "      <th></th>\n",
       "      <th></th>\n",
       "      <th></th>\n",
       "      <th></th>\n",
       "    </tr>\n",
       "  </thead>\n",
       "  <tbody>\n",
       "    <tr>\n",
       "      <th>2018-01-31</th>\n",
       "      <td>7330416</td>\n",
       "      <td>46045</td>\n",
       "      <td>421765.3</td>\n",
       "      <td>87556.6</td>\n",
       "      <td>833064.16</td>\n",
       "    </tr>\n",
       "    <tr>\n",
       "      <th>2018-02-28</th>\n",
       "      <td>8226797</td>\n",
       "      <td>51611</td>\n",
       "      <td>483795.6</td>\n",
       "      <td>97229.9</td>\n",
       "      <td>934929.56</td>\n",
       "    </tr>\n",
       "    <tr>\n",
       "      <th>2018-03-31</th>\n",
       "      <td>6596914</td>\n",
       "      <td>42120</td>\n",
       "      <td>396203.8</td>\n",
       "      <td>79166.6</td>\n",
       "      <td>765991.42</td>\n",
       "    </tr>\n",
       "    <tr>\n",
       "      <th>2018-04-30</th>\n",
       "      <td>7611627</td>\n",
       "      <td>47554</td>\n",
       "      <td>445469.7</td>\n",
       "      <td>90600.3</td>\n",
       "      <td>860225.02</td>\n",
       "    </tr>\n",
       "    <tr>\n",
       "      <th>2018-05-31</th>\n",
       "      <td>7507118</td>\n",
       "      <td>46841</td>\n",
       "      <td>431821.1</td>\n",
       "      <td>89109.6</td>\n",
       "      <td>842006.10</td>\n",
       "    </tr>\n",
       "    <tr>\n",
       "      <th>2018-06-30</th>\n",
       "      <td>6921003</td>\n",
       "      <td>43758</td>\n",
       "      <td>398802.8</td>\n",
       "      <td>84599.5</td>\n",
       "      <td>787626.14</td>\n",
       "    </tr>\n",
       "    <tr>\n",
       "      <th>2018-07-31</th>\n",
       "      <td>7536986</td>\n",
       "      <td>47623</td>\n",
       "      <td>440842.2</td>\n",
       "      <td>91183.5</td>\n",
       "      <td>856537.30</td>\n",
       "    </tr>\n",
       "    <tr>\n",
       "      <th>2018-08-31</th>\n",
       "      <td>6855507</td>\n",
       "      <td>43507</td>\n",
       "      <td>395680.5</td>\n",
       "      <td>84406.1</td>\n",
       "      <td>785408.86</td>\n",
       "    </tr>\n",
       "    <tr>\n",
       "      <th>2018-09-30</th>\n",
       "      <td>7071248</td>\n",
       "      <td>46290</td>\n",
       "      <td>413457.9</td>\n",
       "      <td>88608.3</td>\n",
       "      <td>823253.90</td>\n",
       "    </tr>\n",
       "    <tr>\n",
       "      <th>2018-10-31</th>\n",
       "      <td>49436369</td>\n",
       "      <td>308010</td>\n",
       "      <td>2667813.1</td>\n",
       "      <td>590073.1</td>\n",
       "      <td>5517447.08</td>\n",
       "    </tr>\n",
       "    <tr>\n",
       "      <th>2018-11-30</th>\n",
       "      <td>46803237</td>\n",
       "      <td>289483</td>\n",
       "      <td>2595702.5</td>\n",
       "      <td>572789.5</td>\n",
       "      <td>5268378.84</td>\n",
       "    </tr>\n",
       "    <tr>\n",
       "      <th>2018-12-31</th>\n",
       "      <td>50915743</td>\n",
       "      <td>329327</td>\n",
       "      <td>2518355.0</td>\n",
       "      <td>710350.6</td>\n",
       "      <td>5811625.54</td>\n",
       "    </tr>\n",
       "    <tr>\n",
       "      <th>2019-01-31</th>\n",
       "      <td>53880772</td>\n",
       "      <td>350010</td>\n",
       "      <td>2806453.8</td>\n",
       "      <td>732494.1</td>\n",
       "      <td>6133837.70</td>\n",
       "    </tr>\n",
       "    <tr>\n",
       "      <th>2019-02-28</th>\n",
       "      <td>55063048</td>\n",
       "      <td>387747</td>\n",
       "      <td>2717315.0</td>\n",
       "      <td>846602.0</td>\n",
       "      <td>6545919.48</td>\n",
       "    </tr>\n",
       "    <tr>\n",
       "      <th>2019-03-31</th>\n",
       "      <td>5890470</td>\n",
       "      <td>38718</td>\n",
       "      <td>301022.1</td>\n",
       "      <td>81720.0</td>\n",
       "      <td>669621.64</td>\n",
       "    </tr>\n",
       "    <tr>\n",
       "      <th>2019-04-30</th>\n",
       "      <td>5921395</td>\n",
       "      <td>39117</td>\n",
       "      <td>297626.3</td>\n",
       "      <td>82887.8</td>\n",
       "      <td>677993.14</td>\n",
       "    </tr>\n",
       "    <tr>\n",
       "      <th>2019-05-31</th>\n",
       "      <td>5381856</td>\n",
       "      <td>36365</td>\n",
       "      <td>271428.8</td>\n",
       "      <td>77793.6</td>\n",
       "      <td>628830.32</td>\n",
       "    </tr>\n",
       "    <tr>\n",
       "      <th>2019-06-30</th>\n",
       "      <td>5936798</td>\n",
       "      <td>40213</td>\n",
       "      <td>300510.2</td>\n",
       "      <td>85360.8</td>\n",
       "      <td>690011.54</td>\n",
       "    </tr>\n",
       "    <tr>\n",
       "      <th>2019-07-31</th>\n",
       "      <td>5066889</td>\n",
       "      <td>34428</td>\n",
       "      <td>253749.8</td>\n",
       "      <td>73096.6</td>\n",
       "      <td>589016.50</td>\n",
       "    </tr>\n",
       "    <tr>\n",
       "      <th>2019-08-31</th>\n",
       "      <td>5874118</td>\n",
       "      <td>39346</td>\n",
       "      <td>301671.2</td>\n",
       "      <td>82320.5</td>\n",
       "      <td>674639.66</td>\n",
       "    </tr>\n",
       "    <tr>\n",
       "      <th>2019-09-30</th>\n",
       "      <td>5386937</td>\n",
       "      <td>36488</td>\n",
       "      <td>273885.7</td>\n",
       "      <td>77479.0</td>\n",
       "      <td>626940.46</td>\n",
       "    </tr>\n",
       "    <tr>\n",
       "      <th>2019-10-31</th>\n",
       "      <td>6042366</td>\n",
       "      <td>40174</td>\n",
       "      <td>303472.0</td>\n",
       "      <td>84758.4</td>\n",
       "      <td>691501.80</td>\n",
       "    </tr>\n",
       "    <tr>\n",
       "      <th>2019-11-30</th>\n",
       "      <td>5770841</td>\n",
       "      <td>38781</td>\n",
       "      <td>287815.9</td>\n",
       "      <td>81865.6</td>\n",
       "      <td>664408.50</td>\n",
       "    </tr>\n",
       "    <tr>\n",
       "      <th>2019-12-31</th>\n",
       "      <td>5075649</td>\n",
       "      <td>34932</td>\n",
       "      <td>246523.8</td>\n",
       "      <td>75811.7</td>\n",
       "      <td>594568.78</td>\n",
       "    </tr>\n",
       "  </tbody>\n",
       "</table>\n",
       "</div>"
      ],
      "text/plain": [
       "                 BOX_ID  BOX_COUNT       MILK      MEAT  UNIT_PRICE\n",
       "PURCHASE_DATE                                                      \n",
       "2018-01-31      7330416      46045   421765.3   87556.6   833064.16\n",
       "2018-02-28      8226797      51611   483795.6   97229.9   934929.56\n",
       "2018-03-31      6596914      42120   396203.8   79166.6   765991.42\n",
       "2018-04-30      7611627      47554   445469.7   90600.3   860225.02\n",
       "2018-05-31      7507118      46841   431821.1   89109.6   842006.10\n",
       "2018-06-30      6921003      43758   398802.8   84599.5   787626.14\n",
       "2018-07-31      7536986      47623   440842.2   91183.5   856537.30\n",
       "2018-08-31      6855507      43507   395680.5   84406.1   785408.86\n",
       "2018-09-30      7071248      46290   413457.9   88608.3   823253.90\n",
       "2018-10-31     49436369     308010  2667813.1  590073.1  5517447.08\n",
       "2018-11-30     46803237     289483  2595702.5  572789.5  5268378.84\n",
       "2018-12-31     50915743     329327  2518355.0  710350.6  5811625.54\n",
       "2019-01-31     53880772     350010  2806453.8  732494.1  6133837.70\n",
       "2019-02-28     55063048     387747  2717315.0  846602.0  6545919.48\n",
       "2019-03-31      5890470      38718   301022.1   81720.0   669621.64\n",
       "2019-04-30      5921395      39117   297626.3   82887.8   677993.14\n",
       "2019-05-31      5381856      36365   271428.8   77793.6   628830.32\n",
       "2019-06-30      5936798      40213   300510.2   85360.8   690011.54\n",
       "2019-07-31      5066889      34428   253749.8   73096.6   589016.50\n",
       "2019-08-31      5874118      39346   301671.2   82320.5   674639.66\n",
       "2019-09-30      5386937      36488   273885.7   77479.0   626940.46\n",
       "2019-10-31      6042366      40174   303472.0   84758.4   691501.80\n",
       "2019-11-30      5770841      38781   287815.9   81865.6   664408.50\n",
       "2019-12-31      5075649      34932   246523.8   75811.7   594568.78"
      ]
     },
     "execution_count": 13,
     "metadata": {},
     "output_type": "execute_result"
    }
   ],
   "source": [
    "monthly_tot = df.resample(rule='M').sum()\n",
    "monthly_tot"
   ]
  },
  {
   "cell_type": "code",
   "execution_count": 14,
   "id": "d04ff685",
   "metadata": {},
   "outputs": [
    {
     "name": "stdout",
     "output_type": "stream",
     "text": [
      "Monthly meat sales quantity for Feb'19: \n",
      "846602 stones\n"
     ]
    }
   ],
   "source": [
    "feb_meat_quan = monthly_tot.loc['2019-02-28','MEAT']\n",
    "print(\"Monthly meat sales quantity for Feb'19: \")\n",
    "print(int(feb_meat_quan),\"stones\")"
   ]
  },
  {
   "cell_type": "code",
   "execution_count": 15,
   "id": "20d6d021",
   "metadata": {},
   "outputs": [
    {
     "data": {
      "image/png": "[encoded data removed]",
      "text/plain": [
       "<Figure size 1200x400 with 1 Axes>"
      ]
     },
     "metadata": {},
     "output_type": "display_data"
    }
   ],
   "source": [
    "# axis values for graph\n",
    "index = df.loc['2019-02-01':'2019-02-28'].index\n",
    "meat_sold = df.loc['2019-02-01':'2019-02-28'][\"MEAT\"]\n",
    "plt.figure(figsize=(12,4))\n",
    "# plotting  graph\n",
    "sns.lineplot(x=index,y=meat_sold)\n",
    "plt.title(\"February 2019 Meat Sales\")\n",
    "plt.tight_layout();"
   ]
  },
  {
   "cell_type": "markdown",
   "id": "68897b79",
   "metadata": {},
   "source": [
    "**7.What is the Month-on-Month meat sales amount growth% on average?**"
   ]
  },
  {
   "cell_type": "code",
   "execution_count": 16,
   "id": "6ad57725",
   "metadata": {},
   "outputs": [
    {
     "name": "stdout",
     "output_type": "stream",
     "text": [
      "Month-on-Month meat sales amount growth% on average:\n",
      "22.47 percent\n"
     ]
    }
   ],
   "source": [
    "# monthly meat sells\n",
    "sells_growth =monthly_tot['MEAT'].pct_change()*100\n",
    "print('Month-on-Month meat sales amount growth% on average:')\n",
    "print(round(sells_growth.mean(),2),'percent')"
   ]
  },
  {
   "cell_type": "code",
   "execution_count": 17,
   "id": "bdc3c935",
   "metadata": {},
   "outputs": [
    {
     "data": {
      "image/png": "[encoded data removed]",
      "text/plain": [
       "<Figure size 1200x400 with 1 Axes>"
      ]
     },
     "metadata": {},
     "output_type": "display_data"
    }
   ],
   "source": [
    "index = monthly_tot.index\n",
    "meat_sold = monthly_tot.loc['2018-01-31':'2019-12-31'][\"MEAT\"]\n",
    "plt.figure(figsize=(12,4))\n",
    "# plotting  graph\n",
    "sns.lineplot(x=index,y=meat_sold,markers='*')\n",
    "plt.title(\"Monthly Meat Sales\")\n",
    "plt.tight_layout();"
   ]
  },
  {
   "cell_type": "markdown",
   "id": "4a349236",
   "metadata": {},
   "source": [
    "**8.What is the difference between Daily avg. Milk sale amount on Sunday & Tuesday for the month of Jan’19?**"
   ]
  },
  {
   "cell_type": "code",
   "execution_count": 22,
   "id": "a587ec49",
   "metadata": {},
   "outputs": [
    {
     "data": {
      "text/plain": [
       "PURCHASE_DATE\n",
       "Friday       8.097331\n",
       "Monday       8.014505\n",
       "Saturday     7.485140\n",
       "Sunday       8.005976\n",
       "Thursday     8.083397\n",
       "Tuesday      8.056491\n",
       "Wednesday    8.129512\n",
       "Name: MILK, dtype: float64"
      ]
     },
     "execution_count": 22,
     "metadata": {},
     "output_type": "execute_result"
    }
   ],
   "source": [
    "# subsetting data for Jan’19\n",
    "jan_19_data = df[(df.index.year == 2019) & (df.index.month == 1)]\n",
    "# get day names\n",
    "day_names = jan_19_data.index.day_name()\n",
    "# avrage sales\n",
    "average_sales_by_day = jan_19_data.groupby(day_names)['MILK'].mean()\n",
    "average_sales_by_day"
   ]
  },
  {
   "cell_type": "markdown",
   "id": "efe09a25",
   "metadata": {},
   "source": [
    "No difference between Daily avg. Milk sale amount on Sunday & Tuesday for the month of Jan’19.**"
   ]
  },
  {
   "cell_type": "markdown",
   "id": "b2c178fb",
   "metadata": {},
   "source": [
    "**9.What is the Top selling Premium quality Box ID for the month of Nov'18?**"
   ]
  },
  {
   "cell_type": "code",
   "execution_count": 38,
   "id": "f14beef8",
   "metadata": {},
   "outputs": [
    {
     "data": {
      "text/plain": [
       "BOX_ID\n",
       "163    57983\n",
       "143    39320\n",
       "89     16553\n",
       "134    11706\n",
       "137     8121\n",
       "Name: BOX_COUNT, dtype: int32"
      ]
     },
     "execution_count": 38,
     "metadata": {},
     "output_type": "execute_result"
    }
   ],
   "source": [
    "mask_yr = (df.index.year==2018)\n",
    "mask_month = (df.index.month==11)\n",
    "mask_qual = (df[\"QUALITY\"]==\"Premium\")\n",
    "# subset by november 18 premium box \n",
    "prem_nov_18_data = df[mask_yr & mask_month & mask_qual]\n",
    "top_prem_nov_18_box = (prem_nov_18_data\n",
    "                        .groupby(prem_nov_18_data['BOX_ID'])\n",
    "                        ['BOX_COUNT']\n",
    "                        .sum()\n",
    "                        .sort_values(ascending=False))\n",
    "# Top 5 selling Premium quality Box ID's for the month of Nov'18\n",
    "top_prem_nov_18_box.head()"
   ]
  },
  {
   "cell_type": "markdown",
   "id": "e37be7b0",
   "metadata": {},
   "source": [
    "**163** is the Top selling Premium quality Box ID for the month of Nov'18"
   ]
  },
  {
   "cell_type": "markdown",
   "id": "a7efe8e5",
   "metadata": {},
   "source": [
    "**10.What is the unit price of the third highest sold box for Dec’18?**"
   ]
  },
  {
   "cell_type": "code",
   "execution_count": 39,
   "id": "49da590a",
   "metadata": {},
   "outputs": [
    {
     "data": {
      "text/plain": [
       "BOX_ID\n",
       "163    48218\n",
       "143    26219\n",
       "103    18118\n",
       "255    17454\n",
       "89     16891\n",
       "Name: BOX_COUNT, dtype: int32"
      ]
     },
     "execution_count": 39,
     "metadata": {},
     "output_type": "execute_result"
    }
   ],
   "source": [
    "mask_yr = (df.index.year==2018)\n",
    "mask_month = (df.index.month==12)\n",
    "# subset by december 18\n",
    "dec_18_data = df[mask_yr & mask_month]\n",
    "top_dec_18_box = (dec_18_data\n",
    "                    .groupby(dec_18_data['BOX_ID'])\n",
    "                    ['BOX_COUNT']\n",
    "                    .sum()\n",
    "                    .sort_values(ascending=False))\n",
    "# Top 5 selling  Box ID's for the month of Dec'18\n",
    "top_dec_18_box.head()"
   ]
  },
  {
   "cell_type": "markdown",
   "id": "42ad08fd",
   "metadata": {},
   "source": [
    "**103** is the third highest sold Box ID for the month of Dec'18"
   ]
  },
  {
   "cell_type": "code",
   "execution_count": 45,
   "id": "c7a167e4",
   "metadata": {},
   "outputs": [
    {
     "data": {
      "text/html": [
       "<div>\n",
       "<style scoped>\n",
       "    .dataframe tbody tr th:only-of-type {\n",
       "        vertical-align: middle;\n",
       "    }\n",
       "\n",
       "    .dataframe tbody tr th {\n",
       "        vertical-align: top;\n",
       "    }\n",
       "\n",
       "    .dataframe thead th {\n",
       "        text-align: right;\n",
       "    }\n",
       "</style>\n",
       "<table border=\"1\" class=\"dataframe\">\n",
       "  <thead>\n",
       "    <tr style=\"text-align: right;\">\n",
       "      <th></th>\n",
       "      <th>BOX_ID</th>\n",
       "      <th>QUALITY</th>\n",
       "      <th>DELIVERY_OPTION</th>\n",
       "      <th>MILK</th>\n",
       "      <th>MEAT</th>\n",
       "      <th>UNIT_PRICE</th>\n",
       "    </tr>\n",
       "  </thead>\n",
       "  <tbody>\n",
       "    <tr>\n",
       "      <th>102</th>\n",
       "      <td>103</td>\n",
       "      <td>Premium</td>\n",
       "      <td>Delivery from Collection Point</td>\n",
       "      <td>0.0</td>\n",
       "      <td>4.0</td>\n",
       "      <td>15.96</td>\n",
       "    </tr>\n",
       "  </tbody>\n",
       "</table>\n",
       "</div>"
      ],
      "text/plain": [
       "     BOX_ID  QUALITY                 DELIVERY_OPTION  MILK  MEAT  UNIT_PRICE\n",
       "102     103  Premium  Delivery from Collection Point   0.0   4.0       15.96"
      ]
     },
     "execution_count": 45,
     "metadata": {},
     "output_type": "execute_result"
    }
   ],
   "source": [
    "df_box[df_box['BOX_ID'] == 103]"
   ]
  },
  {
   "cell_type": "markdown",
   "id": "154a9bd3",
   "metadata": {},
   "source": [
    "**15.96** is the unit price of the third highest sold box for Dec’18"
   ]
  },
  {
   "cell_type": "code",
   "execution_count": null,
   "id": "ceb9b261",
   "metadata": {},
   "outputs": [],
   "source": []
  }
 ],
 "metadata": {
  "kernelspec": {
   "display_name": "Python 3 (ipykernel)",
   "language": "python",
   "name": "python3"
  },
  "language_info": {
   "codemirror_mode": {
    "name": "ipython",
    "version": 3
   },
   "file_extension": ".py",
   "mimetype": "text/x-python",
   "name": "python",
   "nbconvert_exporter": "python",
   "pygments_lexer": "ipython3",
   "version": "3.11.3"
  }
 },
 "nbformat": 4,
 "nbformat_minor": 5
}
